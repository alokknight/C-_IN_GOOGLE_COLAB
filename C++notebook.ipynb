{
  "nbformat": 4,
  "nbformat_minor": 0,
  "metadata": {
    "colab": {
      "name": "C++notebook.ipynb",
      "provenance": [],
      "collapsed_sections": [],
      "authorship_tag": "ABX9TyPqFeKUnBCB08sWEHK/u+6Y",
      "include_colab_link": true
    },
    "kernelspec": {
      "name": "python3",
      "display_name": "Python 3"
    },
    "language_info": {
      "name": "python"
    }
  },
  "cells": [
    {
      "cell_type": "markdown",
      "metadata": {
        "id": "view-in-github",
        "colab_type": "text"
      },
      "source": [
        "<a href=\"https://colab.research.google.com/github/alokknight/CPP_IN_GOOGLE_COLAB/blob/main/C%2B%2Bnotebook.ipynb\" target=\"_parent\"><img src=\"https://colab.research.google.com/assets/colab-badge.svg\" alt=\"Open In Colab\"/></a>"
      ]
    },
    {
      "cell_type": "code",
      "metadata": {
        "id": "dk-Y0k4qRbFd"
      },
      "source": [
        "%lsmagic\n"
      ],
      "execution_count": null,
      "outputs": []
    },
    {
      "cell_type": "code",
      "metadata": {
        "id": "3ttBHeSKR2HS"
      },
      "source": [
        "%%writefile alok.cpp\n",
        "\n",
        "#include<iostream>\n",
        "using namespace std;\n",
        "int main(){\n",
        "    cout<<\"alok\";\n",
        "    cout<<\"patel\";\n",
        "    return 0;un\n",
        "}\n"
      ],
      "execution_count": null,
      "outputs": []
    },
    {
      "cell_type": "code",
      "metadata": {
        "id": "BOmA8JGYXGGM"
      },
      "source": [
        "%%shell\n",
        "g++ alok.cpp -o out\n",
        "./out\n"
      ],
      "execution_count": null,
      "outputs": []
    },
    {
      "cell_type": "markdown",
      "metadata": {
        "id": "QCkR9uatwed4"
      },
      "source": [
        "# union of two arrays\n",
        "* using set of STL \n",
        "* using map of STL\n",
        "* Using Sorting\n",
        "* Using Sorting and serching"
      ]
    },
    {
      "cell_type": "code",
      "metadata": {
        "id": "kHnwv-e1WQhS",
        "colab": {
          "base_uri": "https://localhost:8080/"
        },
        "outputId": "5009c466-cc6d-418f-fef2-2f3b9ca4d4b9"
      },
      "source": [
        "%%writefile getunion.cpp\n",
        "#include <bits/stdc++.h>\n",
        "using namespace std;\n",
        "void getUnionBySTLset(int a[], int n, int b[], int m)\n",
        "{\n",
        "     \n",
        "    // Defining set container s\n",
        "    set<int> s;\n",
        "   \n",
        "    // Inserting array elements in s\n",
        "    for (int i = 0; i < n; i++)\n",
        "      s.insert(a[i]);\n",
        "   \n",
        "    for (int i = 0; i < m; i++)\n",
        "        s.insert(b[i]);\n",
        "    cout << \"Number of elements after union operation: \" << s.size() << endl;\n",
        "      cout << \"The union set of both arrays is :\" << endl;\n",
        "    for (auto itr = s.begin(); itr != s.end(); itr++)\n",
        "        cout << *itr\n",
        "             << \" \";\n",
        "        cout<<endl;\n",
        "                     // s will contain only distinct\n",
        "                     // elements from array a and b\n",
        "}\n",
        "\n",
        "// this function returns union arr and prints also.\n",
        "int getUnionUsingMap(int *arr, int m,int *brr, int n){\n",
        "    map<int,int>mp;\n",
        "    for(int i=0;i<m;i++)\n",
        "      mp.insert({arr[i],i});\n",
        "    for(int i=0;i<n;i++)\n",
        "      mp.insert({brr[i],i});\n",
        "\n",
        "    int x=mp.size();\n",
        "    int unionArr[x];\n",
        "    for(int i=0;i<x;i++){\n",
        "        unionArr[i];\n",
        "    }\n",
        "\n",
        "    //to print all elements of arr.\n",
        "    cout << \"Number of elements after union operation: \" << mp.size() << endl;\n",
        "      cout << \"The union set of both arrays using map is :\" << endl;\n",
        "     for (auto itr = mp.begin(); itr != mp.end(); itr++)\n",
        "       cout<<itr->first<<\" \";\n",
        "    cout<<endl;\n",
        "    return *unionArr;\n",
        "}\n",
        "\n",
        "void UnionOfSortedArr(int arr[], int m, int brr[], int n)\n",
        "{\n",
        "    int i = 0, j = 0;\n",
        "    cout<<\"printing union of sorted arrays:\\n\";\n",
        "    while (i < m && j < n) {\n",
        "        if (arr[i] < brr[j])\n",
        "            cout << arr[i++] << \" \";\n",
        " \n",
        "        else if (brr[j] < arr[i])\n",
        "            cout << brr[j++] << \" \";\n",
        " \n",
        "        else {\n",
        "            cout << brr[j++] << \" \";\n",
        "            i++;\n",
        "        }\n",
        "    }\n",
        " \n",
        "    /* Print remaining elements of the larger array */\n",
        "    while (i < m)\n",
        "        cout << arr[i++] << \" \";\n",
        " \n",
        "    while (j < n)\n",
        "        cout << brr[j++] << \" \";\n",
        "}\n",
        " \n",
        "// Driver Code\n",
        "int main()\n",
        "{\n",
        "    int a[9] = { 1, 2, 5, 6, 2, 3, 5, 7, 3 };\n",
        "    int b[10] = { 2, 4, 5, 6, 8, 9, 4, 6, 5, 4 };\n",
        "    \n",
        "    int m = sizeof(a) / sizeof(a[0]);\n",
        "    int n = sizeof(b) / sizeof(a[0]);\n",
        " \n",
        "    getUnionBySTLset(a,m, b,n);\n",
        " \n",
        "    getUnionUsingMap(a,m,b,n);\n",
        "    int c[]={1,3,6,9};\n",
        "    int d[]={2,4,5,7,9};\n",
        "    m =sizeof(c)/sizeof(c[1]);\n",
        "    n= sizeof(d)/sizeof(d[1]);\n",
        "    UnionOfSortedArr(c,m,d,n);\n",
        "}\n"
      ],
      "execution_count": null,
      "outputs": [
        {
          "output_type": "stream",
          "text": [
            "Overwriting getunion.cpp\n"
          ],
          "name": "stdout"
        }
      ]
    },
    {
      "cell_type": "markdown",
      "metadata": {
        "id": "J3_Fe5C6kltu"
      },
      "source": [
        ""
      ]
    },
    {
      "cell_type": "code",
      "metadata": {
        "id": "emuxeiXOWgsk",
        "colab": {
          "base_uri": "https://localhost:8080/"
        },
        "outputId": "66e915aa-f1cb-428a-baf6-2921425b95d3"
      },
      "source": [
        "%%shell\n",
        "g++ getunion.cpp -o getunionoutput\n",
        "./getunionoutput"
      ],
      "execution_count": null,
      "outputs": [
        {
          "output_type": "stream",
          "text": [
            "Number of elements after union operation: 9\n",
            "The union set of both arrays is :\n",
            "1 2 3 4 5 6 7 8 9 \n",
            "Number of elements after union operation: 9\n",
            "The union set of both arrays using map is :\n",
            "1 2 3 4 5 6 7 8 9 \n",
            "printing union of sorted arrays\n",
            "1 2 3 4 5 6 7 9 "
          ],
          "name": "stdout"
        },
        {
          "output_type": "execute_result",
          "data": {
            "text/plain": [
              ""
            ]
          },
          "metadata": {
            "tags": []
          },
          "execution_count": 70
        }
      ]
    },
    {
      "cell_type": "code",
      "metadata": {
        "id": "duQQKRObdcJK"
      },
      "source": [
        "!ls -l"
      ],
      "execution_count": null,
      "outputs": []
    },
    {
      "cell_type": "markdown",
      "metadata": {
        "id": "LwOo89Rbw_7Z"
      },
      "source": [
        "# swap fun"
      ]
    },
    {
      "cell_type": "code",
      "metadata": {
        "colab": {
          "base_uri": "https://localhost:8080/"
        },
        "id": "l8E2GcP30IQW",
        "outputId": "abe72e55-8ff5-4662-c5f9-3ea62673b269"
      },
      "source": [
        "%%writefile swap.cpp\n",
        "#include<iostream>\n",
        "#include <bits/stdc++.h>\n",
        "using namespace std;\n",
        "void swap(int &a,int &b){\n",
        "\ta=a^b;\n",
        "\tb=a^b;\n",
        "\ta=a^b;\n",
        "}\n",
        "int main(){\n",
        "\tint a=3,b=4;\n",
        "\tswap(a,b);\n",
        "\tcout<<a<<\" \"<<b;\n",
        "\treturn 0;\n",
        "}\n",
        "\n"
      ],
      "execution_count": null,
      "outputs": [
        {
          "output_type": "stream",
          "name": "stdout",
          "text": [
            "Overwriting swap.cpp\n"
          ]
        }
      ]
    },
    {
      "cell_type": "code",
      "metadata": {
        "colab": {
          "base_uri": "https://localhost:8080/"
        },
        "id": "psA-DtjL1KtA",
        "outputId": "698700be-9965-4db2-e9bf-94fafecdbf81"
      },
      "source": [
        "%%shell \n",
        "g++ swap.cpp -o swap\n",
        "./swap"
      ],
      "execution_count": null,
      "outputs": [
        {
          "output_type": "stream",
          "name": "stdout",
          "text": [
            "4 3"
          ]
        },
        {
          "output_type": "execute_result",
          "data": {
            "text/plain": [
              ""
            ]
          },
          "metadata": {},
          "execution_count": 4
        }
      ]
    },
    {
      "cell_type": "markdown",
      "metadata": {
        "id": "rJlOamhIEpCU"
      },
      "source": [
        "# handling(removing) duplicates in arrays"
      ]
    },
    {
      "cell_type": "code",
      "metadata": {
        "colab": {
          "base_uri": "https://localhost:8080/"
        },
        "id": "0saRggtsEmYg",
        "outputId": "eb6f1c78-62a5-4998-dc3e-b6833925a555"
      },
      "source": [
        "%%writefile remove_duplicate_elements.cpp\n",
        "\n",
        "\n",
        "#include <bits/stdc++.h>\n",
        "using namespace std;\n",
        "int remove_duplicate_elements(int arr[], int &n)\n",
        "{\n",
        "\n",
        "if (n==0 || n==1)\n",
        "return n;\n",
        "\n",
        "int temp[n];\n",
        "\n",
        "int j = 0;\n",
        "int i;\n",
        "//checking whether consiqutive are same\n",
        "for (i=0; i<n; i++)\n",
        "if (arr[i] != arr[i+1])\n",
        "\t\t\ttemp[j++] = arr[i];\n",
        "//filling elements in arr from temp\n",
        "for (i=0; i<j; i++)\n",
        "arr[i] = temp[i];\n",
        " \n",
        "for (int i=0;i<j;i++)\n",
        "    cout<<arr[i]<<\" \";\n",
        "return j;\n",
        "}\n",
        "int main(){\n",
        "    int arr[]={2,2,2,2,3,5,};\n",
        "    int n = sizeof(arr)/sizeof(arr[0]);\n",
        "    remove_duplicate_elements(arr,n);\n",
        "    return 0;\n",
        "}"
      ],
      "execution_count": null,
      "outputs": [
        {
          "output_type": "stream",
          "name": "stdout",
          "text": [
            "Writing remove_duplicate_elements.cpp\n"
          ]
        }
      ]
    },
    {
      "cell_type": "code",
      "metadata": {
        "colab": {
          "base_uri": "https://localhost:8080/"
        },
        "id": "SUiLCFVlGefl",
        "outputId": "72906764-ab58-451b-f474-d7840c650e36"
      },
      "source": [
        "%%shell\n",
        "g++ remove_duplicate_elements.cpp -o remove_duplicate_elements_output\n",
        "./remove_duplicate_elements_output"
      ],
      "execution_count": null,
      "outputs": [
        {
          "output_type": "stream",
          "name": "stdout",
          "text": [
            "2 3 5 "
          ]
        },
        {
          "output_type": "execute_result",
          "data": {
            "text/plain": [
              ""
            ]
          },
          "metadata": {},
          "execution_count": 6
        }
      ]
    },
    {
      "cell_type": "code",
      "metadata": {
        "id": "zG_t6UnLsN84"
      },
      "source": [
        ""
      ],
      "execution_count": null,
      "outputs": []
    },
    {
      "cell_type": "markdown",
      "metadata": {
        "id": "x1BI1qVAhrI2"
      },
      "source": [
        "#Intersection\n",
        "* for sorted arrays\n",
        "      * using set in STL\n",
        "      * by removing duplicates\n",
        "      * "
      ]
    },
    {
      "cell_type": "code",
      "metadata": {
        "colab": {
          "base_uri": "https://localhost:8080/"
        },
        "id": "LUlPgk6thvNa",
        "outputId": "afacb4ab-24b6-4904-ee03-1e2b2f55169c"
      },
      "source": [
        "%%writefile intersection.cpp\n",
        "\n",
        "#include <bits/stdc++.h>\n",
        "using namespace std;\n",
        "int remove_duplicate_elements(int arr[], int &n);\n",
        "\n",
        "/* Function prints Intersection of arr1[] and arr2[]\n",
        "m is the number of elements in arr1[]\n",
        "n is the number of elements in arr2[] */\n",
        "//this code was not able to handle duplicates if they are presents in both so we are using set of STL \n",
        "//for sorted arrays only\n",
        "void printIntersectionUsingSET(int arr1[], int m, int arr2[],int n)\n",
        "{\n",
        "    int i = 0, j = 0;\n",
        "  set<int>s;\n",
        "    while (i < m && j < n) {\n",
        "        if (arr1[i] < arr2[j])\n",
        "            i++;\n",
        "        else if (arr2[j] < arr1[i])\n",
        "            j++;\n",
        "        else // if arr1[i] == arr2[j]\n",
        "        {   \n",
        "            s.insert(arr2[j]);\n",
        "            i++;\n",
        "            j++;\n",
        "        }\n",
        "    }\n",
        " cout<<\"size of intersection elments \"<<s.size()<<\"\\n\";\n",
        " for (auto itr = s.begin(); itr != s.end(); itr++)\n",
        "        cout << *itr\n",
        "             << \" \";\n",
        "}\n",
        "\n",
        "//for sorted arrays. first remove duplicates from smaller array, then search remaining elements in second larger one. if present then store that in array.\n",
        "\n",
        "int remove_duplicate_elements(int arr[], int &n)\n",
        "{\n",
        "    if (n==0 || n==1)\n",
        "      return n;\n",
        "\n",
        "    int temp[n];\n",
        "\n",
        "    int j = 0;\n",
        "    int i;\n",
        "    //checking whether consiqutive are same\n",
        "    for (i=0; i<n; i++)\n",
        "    if (arr[i] != arr[i+1])\n",
        "        temp[j++] = arr[i];\n",
        "    //filling elements in arr from temp\n",
        "    for (i=0; i<j; i++)\n",
        "    arr[i] = temp[i];\n",
        "    n=j; //resetting size of array\n",
        "    return 0;\n",
        "}\n",
        "\n",
        "//for sorted arrays\n",
        "void intersectionByRemovingDuplicates(int arr1[], int m, int arr2[],int n)\n",
        "{\n",
        "    int i = 0, j = 0, k=0;\n",
        " //getting the size of smallest array in which intersectionarray can be filled\n",
        "  int size=m<n?m:n;\n",
        "  int arr[size];\n",
        "    while (i < m && j < n) {\n",
        "        if (arr1[i] < arr2[j])\n",
        "            i++;\n",
        "        else if (arr2[j] < arr1[i])\n",
        "            j++;\n",
        "        else // if arr1[i] == arr2[j]\n",
        "        {   \n",
        "            arr[k++]=arr2[j];  //now we have an array which have duplicates\n",
        "            i++;               //so we have to remove duplicates\n",
        "            j++;\n",
        "        }\n",
        "    }\n",
        " cout<<\"\\nnow we have duplicates and size k= \"<<k<<\" and elements are:\\n\";\n",
        " for (int l=0;l<k;l++)\n",
        "        cout <<arr[l]<< \" \";\n",
        " remove_duplicate_elements(arr,k);\n",
        " cout<<\"\\nsize of intersection elments \"<<k<<\" \\n\";\n",
        " for (int l=0;l<k;l++)\n",
        "        cout <<arr[l]<< \" \";\n",
        "}\n",
        "\n",
        "void intersectionByRemovingDuplicates2(int arr1[], int m, int arr2[],int n)\n",
        "{\n",
        "    int i = 0, j = 0, k=0;\n",
        " //getting the size of smallest array in which intersectionarray can be filled\n",
        "  int size=m<n?m:n;\n",
        "  int arr[size];\n",
        " cout<<\"haha\\n\";\n",
        "    while (i < m && j < n) {\n",
        "        if (arr1[i] < arr2[j])\n",
        "            i++;\n",
        "        else if (arr2[j] < arr1[i])\n",
        "            j++;\n",
        "        else // if arr1[i] == arr2[j]\n",
        "        {   int x;\n",
        "            if(arr1[i]!=x)\n",
        "                  cout<<arr[i]<<\" \";\n",
        "            x=arr1[i];  \n",
        "            i++;             \n",
        "            j++;\n",
        "        }\n",
        "    }\n",
        "}\n",
        "\n",
        "/* Driver program to test above function */\n",
        "int main()\n",
        "{\n",
        "    int arr1[] = { 1,2,2,2,2, 2, 3, 3, 3, 4,4,4,4, 5, 6 };\n",
        "    int arr2[] = { 2,2,2,2 ,3, 5,7 };\n",
        " \n",
        "    int m = sizeof(arr1) / sizeof(arr1[0]);\n",
        "    int n = sizeof(arr2) / sizeof(arr2[0]);\n",
        " \n",
        "    // Function calling\n",
        "    printIntersectionUsingSET(arr1, m, arr2, n);\n",
        "    intersectionByRemovingDuplicates(arr1,m,arr2,n);\n",
        "    intersectionByRemovingDuplicates2(arr1,m,arr2,n);\n",
        "    return 0;\n",
        "}"
      ],
      "execution_count": null,
      "outputs": [
        {
          "output_type": "stream",
          "text": [
            "Overwriting intersection.cpp\n"
          ],
          "name": "stdout"
        }
      ]
    },
    {
      "cell_type": "code",
      "metadata": {
        "colab": {
          "base_uri": "https://localhost:8080/"
        },
        "id": "Z5LfaTy-ieQD",
        "outputId": "13f3e445-41e1-46db-dc64-85ea96071bb3"
      },
      "source": [
        "%%shell \n",
        "g++ intersection.cpp -o intersectionOutput\n",
        "./intersectionOutput"
      ],
      "execution_count": null,
      "outputs": [
        {
          "output_type": "stream",
          "text": [
            "size of intersection elments 3\n",
            "2 3 5 \n",
            "now we have duplicates and size k= 6 and elements are:\n",
            "2 2 2 2 3 5 \n",
            "size of intersection elments 3 \n",
            "2 3 5 haha\n",
            "3 15 15 "
          ],
          "name": "stdout"
        },
        {
          "output_type": "execute_result",
          "data": {
            "text/plain": [
              ""
            ]
          },
          "metadata": {
            "tags": []
          },
          "execution_count": 43
        }
      ]
    },
    {
      "cell_type": "markdown",
      "metadata": {
        "id": "HdqiR93ZsVVZ"
      },
      "source": [
        "#Passing by pointer Vs Passing by Reference in C++\n",
        "\n",
        "In C++, we can pass parameters to a function either by pointers or by reference. In both the cases, we get the same result. So the following questions are inevitable; when is one preferred over the other? What are the reasons we use one over the other?\n",
        "\n",
        "* Passing by Pointer:\n"
      ]
    },
    {
      "cell_type": "code",
      "metadata": {
        "id": "ov0PT9EkusG5"
      },
      "source": [
        "/ C++ program to swap two numbers using\n",
        "// pass by pointer.\n",
        "#include <iostream>\n",
        "using namespace std;\n",
        "  \n",
        "void swap(int* x, int* y)\n",
        "{\n",
        "    int z = *x;\n",
        "    *x = *y;\n",
        "    *y = z;\n",
        "}\n",
        "  \n",
        "int main()\n",
        "{\n",
        "    int a = 45, b = 35;\n",
        "    cout << \"Before Swap\\n\";\n",
        "    cout << \"a = \" << a << \" b = \" << b << \"\\n\";\n",
        "  \n",
        "    swap(&a, &b);\n",
        "  \n",
        "    cout << \"After Swap with pass by pointer\\n\";\n",
        "    cout << \"a = \" << a << \" b = \" << b << \"\\n\";\n",
        "}"
      ],
      "execution_count": null,
      "outputs": []
    },
    {
      "cell_type": "markdown",
      "metadata": {
        "id": "yXYhCUzFu-sK"
      },
      "source": [
        "* Passing by Reference:"
      ]
    },
    {
      "cell_type": "code",
      "metadata": {
        "id": "J_knc7zhvLGE"
      },
      "source": [
        "// C++ program to swap two numbers using\n",
        "// pass by reference.\n",
        "  \n",
        "#include <iostream>\n",
        "using namespace std;\n",
        "void swap(int& x, int& y)\n",
        "{\n",
        "    int z = x;\n",
        "    x = y;\n",
        "    y = z;\n",
        "}\n",
        "  \n",
        "int main()\n",
        "{\n",
        "    int a = 45, b = 35;\n",
        "    cout << \"Before Swap\\n\";\n",
        "    cout << \"a = \" << a << \" b = \" << b << \"\\n\";\n",
        "  \n",
        "    swap(a, b);\n",
        "  \n",
        "    cout << \"After Swap with pass by reference\\n\";\n",
        "    cout << \"a = \" << a << \" b = \" << b << \"\\n\";\n",
        "}"
      ],
      "execution_count": null,
      "outputs": []
    },
    {
      "cell_type": "markdown",
      "metadata": {
        "id": "iK9FEIAGvauS"
      },
      "source": [
        "#Difference in Reference variable and pointer variable\n",
        "References are generally implemented using pointers. A reference is same object, just with a different name and reference must refer to an object. Since references can’t be NULL, they are safer to use.\n",
        "\n",
        "* A pointer can be re-assigned while reference cannot, and must be assigned at initialization only.\n",
        "* Pointer can be assigned NULL directly, whereas reference cannot.\n",
        "* Pointers can iterate over an array, we can use ++ to go to the next item that a pointer is pointing to.\n",
        "* A pointer is a variable that holds a memory address. A reference has the same memory address as the item it references.\n",
        "* A pointer to a class/struct uses ‘->'(arrow operator) to access it’s members whereas a reference uses a ‘.'(dot operator)\n",
        "* A pointer needs to be dereferenced with * to access the memory location it points to, whereas a reference can be used directly.\n",
        "\n"
      ]
    },
    {
      "cell_type": "code",
      "metadata": {
        "id": "R5rukkKlvzo1"
      },
      "source": [
        "// C++ program to demonstrate differences between pointer and reference.\n",
        "#include <iostream>\n",
        "using namespace std;\n",
        "  \n",
        "struct demo\n",
        "{\n",
        "    int a;\n",
        "};\n",
        "  \n",
        "int main()\n",
        "{\n",
        "    int x = 5;\n",
        "    int y = 6;\n",
        "    demo d;\n",
        "      \n",
        "    int *p;\n",
        "    p =  &x;\n",
        "    p = &y;                     // 1. Pointer reintialization allowed\n",
        "    int &r = x;\n",
        "    // &r = y;                  // 1. Compile Error\n",
        "    r = y;                      // 1. x value becomes 6\n",
        "      \n",
        "    p = NULL;           \n",
        "    // &r = NULL;               // 2. Compile Error\n",
        "      \n",
        "    p++;                        // 3. Points to next memory location\n",
        "    r++;                        // 3. x values becomes 7\n",
        "      \n",
        "    cout << &p << \" \" << &x << endl;    // 4. Different address\n",
        "    cout << &r << \" \" << &x << endl;    // 4. Same address\n",
        "      \n",
        "    demo *q = &d;\n",
        "    demo &qq = d;\n",
        "      \n",
        "    q->a = 8;\n",
        "    // q.a = 8;                 // 5. Compile Error \n",
        "    qq.a = 8;\n",
        "    // qq->a = 8;               // 5. Compile Error\n",
        "      \n",
        "    cout << p << endl;        // 6. Prints the address\n",
        "    cout << r << endl;        // 6. Print the value of x    \n",
        "  \n",
        "    return 0;\n",
        "}\n"
      ],
      "execution_count": null,
      "outputs": []
    },
    {
      "cell_type": "markdown",
      "metadata": {
        "id": "MXsRAKvEkpH5"
      },
      "source": [
        "# stack using array\n",
        "\n",
        "\n",
        "\n"
      ]
    },
    {
      "cell_type": "code",
      "metadata": {
        "id": "P_ugIhh9B2ZZ",
        "colab": {
          "base_uri": "https://localhost:8080/"
        },
        "outputId": "67c3338f-bfe8-4c2a-8250-3314d876d7dd"
      },
      "source": [
        "%%writefile stackUsingArray.cpp\n",
        "\n",
        "//C++ program to implement basic stack operations \n",
        "#include <bits/stdc++.h> \n",
        "using namespace std; \n",
        "#define MAX 1000 \n",
        "\n",
        "class Stack {\n",
        "int top; \n",
        "\n",
        "public:\n",
        "int a[MAX]; // Maximum size of Stack \n",
        "\n",
        "Stack() { top = -1; }\n",
        "bool push(int x);\n",
        "int pop();\n",
        "int peek();\n",
        "bool isEmpty();\n",
        "}; \n",
        "\n",
        "bool Stack::push(int x)\n",
        "{\n",
        "if (top >= (MAX - 1)) {\n",
        "cout << \"Stack Overflow\";\n",
        "return false;\n",
        "}\n",
        "else {\n",
        "a[++top] = x;\n",
        "cout << x << \" pushed into stack\\n\";\n",
        "return true;\n",
        "}\n",
        "} \n",
        "\n",
        "int Stack::pop()\n",
        "{\n",
        "if (top < 0) {\n",
        "cout << \"Stack Underflow\";\n",
        "return 0;\n",
        "}\n",
        "else {\n",
        "int x = a[top--];\n",
        "return x;\n",
        "}\n",
        "}\n",
        "\n",
        "int Stack::peek()\n",
        "{\n",
        "if (top < 0) {\n",
        "cout << \"Stack is Empty\";\n",
        "return 0;\n",
        "}\n",
        "else {\n",
        "int x = a[top];\n",
        "return x;\n",
        "}\n",
        "} \n",
        "\n",
        "bool Stack::isEmpty()\n",
        "{\n",
        "return (top < 0);\n",
        "} \n",
        "\n",
        "// Driver program to test above functions\n",
        "int main()\n",
        "{\n",
        "class Stack s;\n",
        "s.push(10);\n",
        "s.push(20);\n",
        "s.push(30);\n",
        "cout << s.pop() << \" Popped from stack\\n\"; \n",
        "\n",
        "return 0;\n",
        "}\n"
      ],
      "execution_count": null,
      "outputs": [
        {
          "output_type": "stream",
          "name": "stdout",
          "text": [
            "Writing stackUsingArray.cpp\n"
          ]
        }
      ]
    },
    {
      "cell_type": "code",
      "metadata": {
        "id": "NFC9T2lpFKC5",
        "colab": {
          "base_uri": "https://localhost:8080/"
        },
        "outputId": "5bceedcb-841e-44ad-e97a-bdc3fab2d1a7"
      },
      "source": [
        "%%shell \n",
        "%%shell \n",
        "g++ stackUsingArray.cpp -o stackUsingArrayOutput\n",
        "./stackUsingArrayOutput"
      ],
      "execution_count": null,
      "outputs": [
        {
          "output_type": "stream",
          "name": "stdout",
          "text": [
            "/bin/bash: line 0: fg: no job control\n",
            "10 pushed into stack\n",
            "20 pushed into stack\n",
            "30 pushed into stack\n",
            "30 Popped from stack\n"
          ]
        },
        {
          "output_type": "execute_result",
          "data": {
            "text/plain": [
              ""
            ]
          },
          "metadata": {},
          "execution_count": 9
        }
      ]
    },
    {
      "cell_type": "code",
      "metadata": {
        "id": "9SdBrqypHJzj"
      },
      "source": [
        ""
      ],
      "execution_count": null,
      "outputs": []
    },
    {
      "cell_type": "markdown",
      "metadata": {
        "id": "dssXKCYNDGUt"
      },
      "source": [
        "# stack using "
      ]
    },
    {
      "cell_type": "code",
      "metadata": {
        "id": "6h46PvkzDOUf"
      },
      "source": [
        "//Stack:- by using linked list\n",
        "// C++ program for linked list implementation of stack\n",
        "#include <bits/stdc++.h>\n",
        "using namespace std; \n",
        "\n",
        "// A structure to represent a stack\n",
        "class StackNode {\n",
        "public:\n",
        "int data;\n",
        "StackNode* next;\n",
        "}; \n",
        "\n",
        "StackNode* newNode(int data)\n",
        "{\n",
        "StackNode* stackNode = new StackNode();\n",
        "stackNode->data = data;\n",
        "stackNode->next = NULL;\n",
        "return stackNode;\n",
        "} \n",
        "\n",
        "int isEmpty(StackNode* root)\n",
        "{\n",
        "return !root;\n",
        "} \n",
        "\n",
        "void push(StackNode** root, int data)\n",
        "{\n",
        "StackNode* stackNode = newNode(data);\n",
        "stackNode->next = *root;\n",
        "*root = stackNode;\n",
        "cout << data << \" pushed to stack\\n\";\n",
        "} \n",
        "\n",
        "int pop(StackNode** root)\n",
        "{\n",
        "if (isEmpty(*root))\n",
        "return INT_MIN;\n",
        "StackNode* temp = *root;\n",
        "*root = (*root)->next;\n",
        "int popped = temp->data;\n",
        "free(temp); \n",
        "\n",
        "return popped;\n",
        "} \n",
        "\n",
        "int peek(StackNode* root)\n",
        "{\n",
        "if (isEmpty(root))\n",
        "return INT_MIN;\n",
        "return root->data;\n",
        "} \n",
        "\n",
        "// Driver code\n",
        "int main()\n",
        "{\n",
        "StackNode* root = NULL; \n",
        "\n",
        "push(&root, 10);\n",
        "push(&root, 20);\n",
        "push(&root, 30); \n",
        "\n",
        "cout << pop(&root) << \" popped from stack\\n\"; \n",
        "\n",
        "cout << \"Top element is \" << peek(root) << endl; \n",
        "\n",
        "return 0;\n",
        "}"
      ],
      "execution_count": null,
      "outputs": []
    }
  ]
}